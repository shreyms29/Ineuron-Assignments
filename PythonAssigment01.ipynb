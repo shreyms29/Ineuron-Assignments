{
 "cells": [
  {
   "cell_type": "markdown",
   "id": "2ee4718b-92ab-4204-ad72-6f5d6461d3e4",
   "metadata": {},
   "source": [
    "Python Assignment -- 01"
   ]
  },
  {
   "cell_type": "markdown",
   "id": "a7cbd368-58c8-4296-b2c0-a434f29e86bd",
   "metadata": {
    "tags": []
   },
   "source": [
    "1. In the below elements which of them are values or an expression? eg:- values can be integer or string and expressions will be mathematical operators.\n",
    "* \n",
    "'hello'\n",
    "-87.8\n",
    "- \n",
    "/ \n",
    "\n",
    "6 \n",
    "\n",
    "Ans: Expression are (* , - , / )\n",
    "     Values are ('hello' , -87.8 , 6 )\n",
    "     \n",
    "     \n",
    "2. What is the difference between string and variable?\n",
    "\n",
    "Ans: A string is a reference datatype which represents the text type data which is enclosed in \"\".\n",
    "     A variable works as a temporary storeage location which is used to represent any value.\n",
    "     For Example, s = \"hello world\" here s is a variable and \"hello world\" is a string.\n",
    "     \n",
    "     \n",
    "3. Describe three different data types.\n",
    "\n",
    "Ans: The three different datatype are \n",
    "    1. Numeric type : int.\n",
    "    2. Text type : string.\n",
    "    3. Mapping type : dict.\n",
    "    \n",
    "    \n",
    "4. What is an expression made up of? What do all expressions do?\n",
    "\n",
    "Ans : An Expression is made up of a sequence or combination of values, variables, operators and function calls that always produces or returns a result value. An expression is evaluated as per the precedence of its operators.\n",
    "      All expressions are trying to evaluate to produce some value.\n",
    "\n",
    "\n",
    "5. This assignment statements, like spam = 10. What is the difference between an expression and a statement?\n",
    "\n",
    "Ans: The difference between expression ans statements are\n",
    "\n",
    "-- An Expression always evaluates to a value. A statement executes something  \n",
    "-- Evaluation of an expression always Produces or returns a result value. Execution of a statement may or may not produces or displays a result value, it only does whatever the statement says\n",
    "\n",
    "\n",
    "6. After running the following code, what does the variable bacon contain?\n",
    "bacon = 22\n",
    "bacon + 1\n",
    "\n",
    "Ans: After running the above code , output is bacon = 22 \n",
    "\n",
    "7. What should the values of the following two terms be?\n",
    "'spam' + 'spamspam'\n",
    "'spam' *3\n",
    "\n",
    "Ans: 'spam' + 'spamspam' = 'spamspamspam'\n",
    "     'spam' *3 = 'spamspamspam'\n",
    "     \n",
    "8. Why is eggs a valid variable name while 100 is invalid?\n",
    "\n",
    "Ans: 100 is a invalid because variable names cannot start with a number.\n",
    "\n",
    "\n",
    "9. What three functions can be used to get the integer, floating-point number, or string version of a value?\n",
    "\n",
    "Ans: The int(), float(), and str() functions will evaluate to the integer, floating-point number, and string versions of the value passed to them.\n",
    "\n",
    "\n",
    "\n",
    "10. Why does this expression cause an error? How can you fix it?\n",
    "'I have eaten ' + 99 + ' burritos.'\n",
    "\n",
    "Ans: The expression causes an error because 99 is an integer, and only strings can be concatenated to other strings with the + operator. The correct way is 'I have eaten ' + str(99) + ' burritos.'\n",
    "\n"
   ]
  }
 ],
 "metadata": {
  "kernelspec": {
   "display_name": "Python 3 (ipykernel)",
   "language": "python",
   "name": "python3"
  },
  "language_info": {
   "codemirror_mode": {
    "name": "ipython",
    "version": 3
   },
   "file_extension": ".py",
   "mimetype": "text/x-python",
   "name": "python",
   "nbconvert_exporter": "python",
   "pygments_lexer": "ipython3",
   "version": "3.9.12"
  },
  "toc-autonumbering": false,
  "toc-showcode": false,
  "toc-showmarkdowntxt": false,
  "toc-showtags": false
 },
 "nbformat": 4,
 "nbformat_minor": 5
}
